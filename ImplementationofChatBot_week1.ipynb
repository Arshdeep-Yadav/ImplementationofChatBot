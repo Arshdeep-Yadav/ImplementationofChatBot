{
 "cells": [
  {
   "cell_type": "code",
   "execution_count": 1,
   "id": "1bcf76c3-9863-47a8-8444-210dc8f78d3f",
   "metadata": {},
   "outputs": [],
   "source": [
    "# Importing necessary libraries\n",
    "import nltk\n",
    "import random\n",
    "import os\n",
    "import ssl\n",
    "import streamlit as st\n",
    "from sklearn. feature_extraction. text import TfidfVectorizer\n",
    "from sklearn. linear_model import LogisticRegression"
   ]
  },
  {
   "cell_type": "code",
   "execution_count": 2,
   "id": "bc4bce2f-f3e9-47d6-a61c-3c53c9d9f554",
   "metadata": {},
   "outputs": [
    {
     "name": "stderr",
     "output_type": "stream",
     "text": [
      "[nltk_data] Downloading package punkt to\n",
      "[nltk_data]     C:\\Users\\arshd\\AppData\\Roaming\\nltk_data...\n",
      "[nltk_data]   Package punkt is already up-to-date!\n"
     ]
    },
    {
     "data": {
      "text/plain": [
       "True"
      ]
     },
     "execution_count": 2,
     "metadata": {},
     "output_type": "execute_result"
    }
   ],
   "source": [
    "ssl ._create_default_https_context = ssl ._create_unverified_context\n",
    "nltk.data.path.append(os.path.abspath('nltk_data'))\n",
    "nltk.download ('punkt')"
   ]
  },
  {
   "cell_type": "code",
   "execution_count": 7,
   "id": "a14e1c2a-fcce-4a44-bcd3-976cde7d263e",
   "metadata": {},
   "outputs": [],
   "source": [
    "intents: [\n",
    "        {\n",
    "            \"tag\": \"greeting\",\n",
    "            \"patterns\": [\"Hi\", \"Hello\", \"Hey\", \"What's up\", \"How are you\"],\n",
    "            \"responses\": [\"Hi there!\", \"Hello!\", \"Hey!\", \"Nothing much!\", \"I'm fine, thank you!\"]\n",
    "        },\n",
    "        {\n",
    "            \"tag\": \"goodbye\",\n",
    "            \"patterns\": [\"Bye\", \"See you later\", \"Goodbye\", \"Take care\"],\n",
    "            \"responses\": [\"Goodbye!\", \"See you later!\", \"Take care!\"]\n",
    "        },\n",
    "        {\n",
    "            \"tag\": \"thanks\",\n",
    "            \"patterns\": [\"Thank you\", \"Thanks\", \"Thanks a lot\", \"I appreciate it\"],\n",
    "            \"responses\": [\"You're welcome!\", \"No problem!\", \"Glad I could help!\"]\n",
    "        },\n",
    "        {\n",
    "            \"tag\": \"about\",\n",
    "            \"patterns\": [\"What can you do?\", \"Who are you?\", \"What are you?\", \"What is your purpose?\"],\n",
    "            \"responses\": [\"I am a chatbot here to assist you.\", \"My purpose is to help answer your questions.\", \"I can provide information and support on various topics.\"]\n",
    "        },\n",
    "        {\n",
    "            \"tag\": \"help\",\n",
    "            \"patterns\": [\"Help\", \"I need help\", \"Can you help me?\", \"What should I do?\"],\n",
    "            \"responses\": [\"Sure! What do you need help with?\", \"I'm here to assist you. What's the issue?\", \"How can I support you?\"]\n",
    "        },\n",
    "        {\n",
    "            \"tag\": \"age\",\n",
    "            \"patterns\": [\"How old are you?\", \"What's your age?\"],\n",
    "            \"responses\": [\"I don't have an age; I'm a chatbot.\", \"I exist in the digital world, so I don't age!\", \"Age is just a number for me.\"]\n",
    "        },\n",
    "        {\n",
    "            \"tag\": \"weather\",\n",
    "            \"patterns\": [\"What's the weather like?\", \"How's the weather today?\"],\n",
    "            \"responses\": [\"I'm sorry, I can't provide real-time weather updates.\", \"Check a weather website or app for the latest forecast.\"]\n",
    "        },\n",
    "        {\n",
    "            \"tag\": \"budget\",\n",
    "            \"patterns\": [\"How can I make a budget?\", \"What's a good budgeting strategy?\", \"How do I create a budget?\"],\n",
    "            \"responses\": [\n",
    "                \"Start by tracking your income and expenses, then allocate funds for necessities, savings, and entertainment.\",\n",
    "                \"A common strategy is the 50/30/20 rule: 50% for needs, 30% for wants, and 20% for savings and debt repayment.\",\n",
    "                \"To create a budget, define financial goals, track spending, and adjust as needed.\"\n",
    "            ]\n",
    "        },\n",
    "        {\n",
    "            \"tag\": \"credit_score\",\n",
    "            \"patterns\": [\"What is a credit score?\", \"How do I check my credit score?\", \"How can I improve my credit score?\"],\n",
    "            \"responses\": [\n",
    "                \"A credit score measures your creditworthiness and helps lenders determine your financial reliability.\",\n",
    "                \"You can check your credit score through websites like Credit Karma or your bank.\",\n",
    "                \"Improve your credit score by paying bills on time, reducing debt, and maintaining good financial habits.\"\n",
    "            ]\n",
    "        },\n",
    "        {\n",
    "            \"tag\": \"appointment\",\n",
    "            \"patterns\": [\"I want to book an appointment\", \"Schedule a meeting\", \"Can I reschedule my appointment?\", \"Cancel my appointment\"],\n",
    "            \"responses\": [\n",
    "                \"Sure! What date and time work for you?\",\n",
    "                \"Your appointment has been scheduled.\",\n",
    "                \"Your appointment has been rescheduled successfully.\",\n",
    "                \"Your appointment has been canceled.\"\n",
    "            ]\n",
    "        },\n",
    "        {\n",
    "            \"tag\": \"order_status\",\n",
    "            \"patterns\": [\"Where is my order?\", \"Track my shipment\", \"What is the status of my delivery?\"],\n",
    "            \"responses\": [\n",
    "                \"Please provide your order ID, and I'll check the status for you.\",\n",
    "                \"Your order is on its way and will arrive by the estimated date.\",\n",
    "                \"Your order has been delivered successfully.\"\n",
    "            ]\n",
    "        },\n",
    "        {\n",
    "            \"tag\": \"technical_support\",\n",
    "            \"patterns\": [\"I'm facing an issue with my device\", \"My app isn't working\", \"How do I fix this error?\"],\n",
    "            \"responses\": [\n",
    "                \"Can you describe the issue in more detail?\",\n",
    "                \"Try restarting your device and checking again.\",\n",
    "                \"I'll connect you to our technical support team for further assistance.\"\n",
    "            ]\n",
    "        },\n",
    "        {\n",
    "            \"tag\": \"subscription\",\n",
    "            \"patterns\": [\"How do I subscribe?\", \"Cancel my subscription\", \"Upgrade my plan\"],\n",
    "            \"responses\": [\n",
    "                \"You can subscribe by visiting our subscription page.\",\n",
    "                \"Your subscription has been canceled successfully.\",\n",
    "                \"Your plan has been upgraded.\"\n",
    "            ]\n",
    "        },\n",
    "        {\n",
    "            \"tag\": \"account_management\",\n",
    "            \"patterns\": [\"Reset my password\", \"Update my email address\", \"How do I delete my account?\"],\n",
    "            \"responses\": [\n",
    "                \"I've sent a password reset link to your email.\",\n",
    "                \"Your email address has been updated successfully.\",\n",
    "                \"Are you sure you want to delete your account? This action cannot be undone.\"\n",
    "            ]\n",
    "        },\n",
    "        {\n",
    "            \"tag\": \"fallback\",\n",
    "            \"patterns\": [\"I don't understand\", \"Can you repeat that?\", \"What do you mean?\"],\n",
    "            \"responses\": [\"I'm not sure I understand. Can you rephrase?\", \"Could you clarify what you mean?\", \"I'm here to help! Try asking in a different way.\"]\n",
    "        }\n",
    "    ]\n"
   ]
  },
  {
   "cell_type": "code",
   "execution_count": null,
   "id": "e76d79ae-8ba5-4284-8980-1f5d8300b893",
   "metadata": {},
   "outputs": [],
   "source": []
  }
 ],
 "metadata": {
  "kernelspec": {
   "display_name": "Python 3 (ipykernel)",
   "language": "python",
   "name": "python3"
  },
  "language_info": {
   "codemirror_mode": {
    "name": "ipython",
    "version": 3
   },
   "file_extension": ".py",
   "mimetype": "text/x-python",
   "name": "python",
   "nbconvert_exporter": "python",
   "pygments_lexer": "ipython3",
   "version": "3.12.3"
  }
 },
 "nbformat": 4,
 "nbformat_minor": 5
}
